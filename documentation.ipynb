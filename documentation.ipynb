{
 "cells": [
  {
   "cell_type": "code",
   "execution_count": 2,
   "metadata": {},
   "outputs": [],
   "source": [
    "\n",
    "import cv2\n",
    "import os\n",
    "import numpy as np\n",
    "import matplotlib.pyplot as plt\n",
    "from Configs.configs import IMG_SHAPE,CLASSES\n",
    "from omegaconf import OmegaConf\n",
    "import CV_algs "
   ]
  },
  {
   "cell_type": "code",
   "execution_count": 3,
   "metadata": {},
   "outputs": [],
   "source": [
    "conf = OmegaConf.load('config.yaml')\n"
   ]
  },
  {
   "cell_type": "code",
   "execution_count": 4,
   "metadata": {},
   "outputs": [],
   "source": [
    "def reduce_classification(line_class):\n",
    "    # procedure for classification problem reduction\n",
    "    # you can add whatever you want\n",
    "    # There is the simlest case of 4 classes (0 - Empty, 1 - Roadbed, 2 - Solid, 3 - Dash)\n",
    "    if line_class == CLASSES.EMPY:\n",
    "        return 0\n",
    "    if line_class == CLASSES.SOLID:\n",
    "        return 2\n",
    "    if line_class == CLASSES.SOLID_SOLID:\n",
    "        return 2\n",
    "    if line_class == CLASSES.SOLID_DASH:\n",
    "        return 2\n",
    "    if line_class == CLASSES.DASH_SOLID:\n",
    "        return 2\n",
    "    if line_class == CLASSES.DASH:\n",
    "        return 3\n",
    "    return None"
   ]
  },
  {
   "cell_type": "code",
   "execution_count": 5,
   "metadata": {},
   "outputs": [
    {
     "name": "stdout",
     "output_type": "stream",
     "text": [
      "[WinError 183] Невозможно создать файл, так как он уже существует: 'TESTS/test2\\\\rgb'\n",
      "[WinError 183] Невозможно создать файл, так как он уже существует: 'TESTS/test2\\\\mask'\n",
      "[WinError 183] Невозможно создать файл, так как он уже существует: 'TESTS/test2\\\\result'\n",
      "[WinError 183] Невозможно создать файл, так как он уже существует: 'TESTS/test2\\\\line_info'\n"
     ]
    }
   ],
   "source": [
    "# Getting paths from config file\n",
    "destination_rgb = conf.source_rgb\n",
    "destination_mask = conf.source_mask\n",
    "destination_to_save = conf.destination_to_save\n",
    "\n",
    "# in Out dir creating the folders (rgb,mask,result,line_info)\n",
    "# There is will be warning if dir exists, but it's ok\n",
    "destination_to_save_rgb = os.path.join(destination_to_save,\"rgb\")\n",
    "try: \n",
    "    os.mkdir(destination_to_save_rgb) \n",
    "except OSError as error: \n",
    "    print(error)\n",
    "destination_to_save_mask = os.path.join(destination_to_save,\"mask\")\n",
    "try: \n",
    "    os.mkdir(destination_to_save_mask) \n",
    "except OSError as error: \n",
    "    print(error)\n",
    "destination_to_save_result = os.path.join(destination_to_save,\"result\")\n",
    "try: \n",
    "    os.mkdir(destination_to_save_result) \n",
    "except OSError as error: \n",
    "    print(error)\n",
    "destination_to_save_info = os.path.join(destination_to_save,\"line_info\")\n",
    "try: \n",
    "    os.mkdir(destination_to_save_info) \n",
    "except OSError as error: \n",
    "    print(error)\n"
   ]
  },
  {
   "cell_type": "code",
   "execution_count": 6,
   "metadata": {},
   "outputs": [
    {
     "name": "stdout",
     "output_type": "stream",
     "text": [
      "0\n",
      "1\n",
      "2\n",
      "3\n",
      "4\n",
      "5\n",
      "6\n"
     ]
    },
    {
     "ename": "ValueError",
     "evalue": "setting an array element with a sequence. The requested array has an inhomogeneous shape after 1 dimensions. The detected shape was (2,) + inhomogeneous part.",
     "output_type": "error",
     "traceback": [
      "\u001b[1;31m---------------------------------------------------------------------------\u001b[0m",
      "\u001b[1;31mValueError\u001b[0m                                Traceback (most recent call last)",
      "Cell \u001b[1;32mIn[6], line 42\u001b[0m\n\u001b[0;32m     38\u001b[0m binary_roadbed \u001b[39m=\u001b[39m CV_algs\u001b[39m.\u001b[39msmalldeleteArreas(binary_roadbed,diagnostics\u001b[39m=\u001b[39m \u001b[39mFalse\u001b[39;00m)\n\u001b[0;32m     40\u001b[0m \u001b[39m#start line search and classification  (uncomment visualisation part if needed)\u001b[39;00m\n\u001b[0;32m     41\u001b[0m \u001b[39m#simple_test_output = CV_algs.simple_test(binary_mark, binary_roadbed,visualisation=True,diagnostics=True)\u001b[39;00m\n\u001b[1;32m---> 42\u001b[0m simple_test_output \u001b[39m=\u001b[39m CV_algs\u001b[39m.\u001b[39;49msimple_test(binary_mark, binary_roadbed)\n\u001b[0;32m     43\u001b[0m \u001b[39m#get out\u001b[39;00m\n\u001b[0;32m     44\u001b[0m success_mark, poly_param, (lc,rc) \u001b[39m=\u001b[39m simple_test_output[\u001b[39m0\u001b[39m]\n",
      "File \u001b[1;32mc:\\Users\\Admin\\Desktop\\WORK\\KAMAZ\\project2022-adas\\code\\Classic_CV\\CV_algs.py:725\u001b[0m, in \u001b[0;36msimple_test\u001b[1;34m(mask_mark_bin, mask_roadbed_bin, visualisation, diagnostics)\u001b[0m\n\u001b[0;32m    722\u001b[0m roadbed_fit \u001b[39m=\u001b[39m (l_roadbed_fit, r_roadbed_fit)\n\u001b[0;32m    723\u001b[0m suc \u001b[39m=\u001b[39m \u001b[39mmin\u001b[39m([l_suc,r_suc])\n\u001b[1;32m--> 725\u001b[0m ret, img_poly, poly_param, (lc,rc) \u001b[39m=\u001b[39m polyfit_sliding_window(mask_mark_bin,cache, roadbed_fit, visualise\u001b[39m=\u001b[39;49m visualisation, diagnostics\u001b[39m=\u001b[39;49mdiagnostics)\n\u001b[0;32m    726\u001b[0m \u001b[39mif\u001b[39;00m diagnostics:\n\u001b[0;32m    727\u001b[0m     plot_images([(img_poly, \u001b[39m'\u001b[39m\u001b[39mPolyfit\u001b[39m\u001b[39m'\u001b[39m), (out, \u001b[39m'\u001b[39m\u001b[39mOut\u001b[39m\u001b[39m'\u001b[39m)])\n",
      "File \u001b[1;32mc:\\Users\\Admin\\Desktop\\WORK\\KAMAZ\\project2022-adas\\code\\Classic_CV\\CV_algs.py:346\u001b[0m, in \u001b[0;36mpolyfit_sliding_window\u001b[1;34m(binary, cache, roadbed_fit, out, visualise, diagnostics)\u001b[0m\n\u001b[0;32m    344\u001b[0m \u001b[39mif\u001b[39;00m \u001b[39mlen\u001b[39m(cache[\u001b[39m0\u001b[39m]) \u001b[39m==\u001b[39m \u001b[39m0\u001b[39m \u001b[39mor\u001b[39;00m \u001b[39mlen\u001b[39m(cache[\u001b[39m1\u001b[39m]) \u001b[39m==\u001b[39m \u001b[39m0\u001b[39m:\n\u001b[0;32m    345\u001b[0m     \u001b[39mif\u001b[39;00m diagnostics: \u001b[39mprint\u001b[39m(\u001b[39m'\u001b[39m\u001b[39mWARNING: Unable to detect lane lines in this frame.\u001b[39m\u001b[39m'\u001b[39m)\n\u001b[1;32m--> 346\u001b[0m     \u001b[39mreturn\u001b[39;00m ret, out, np\u001b[39m.\u001b[39;49marray([left_fit, right_fit]) , (left_class,right_class)\n\u001b[0;32m    347\u001b[0m \u001b[39mif\u001b[39;00m diagnostics:\n\u001b[0;32m    348\u001b[0m     \u001b[39mprint\u001b[39m(\u001b[39mf\u001b[39m\u001b[39m\"\u001b[39m\u001b[39mCompute the lane lines as an average of the previously detected lines, Cache len :\u001b[39m\u001b[39m{\u001b[39;00m\u001b[39mlen\u001b[39m(cache[\u001b[39m0\u001b[39m])\u001b[39m}\u001b[39;00m\u001b[39m\"\u001b[39m)\n",
      "\u001b[1;31mValueError\u001b[0m: setting an array element with a sequence. The requested array has an inhomogeneous shape after 1 dimensions. The detected shape was (2,) + inhomogeneous part."
     ]
    }
   ],
   "source": [
    "# some parameters from config\n",
    "destination_SIZE = conf.target_size # is size of final images and masks\n",
    "exceptions = conf.exceptions # these names will be omitted for processing\n",
    "\n",
    "#used parameters\n",
    "list_dir = os.listdir(destination_rgb)\n",
    "Y_SHAPE,X_SHAPE = IMG_SHAPE\n",
    "\n",
    "#name of final images\n",
    "name_counter = 0\n",
    "\n",
    "\n",
    "for i in list_dir:\n",
    "    #avoid black list\n",
    "    if i in exceptions:\n",
    "        continue\n",
    "    #img_name without extension\n",
    "    img_num = os.path.splitext(i)[0]\n",
    "    print(img_num)\n",
    "    \n",
    "    #take the rgb\n",
    "    img_real = cv2.imread(os.path.join(destination_rgb,f\"{img_num}.png\"))\n",
    "    img_real =cv2.cvtColor(img_real, cv2.COLOR_BGR2RGB)\n",
    "    img_real = cv2.resize(img_real,(X_SHAPE,Y_SHAPE),interpolation=cv2.INTER_CUBIC)\n",
    "    #take the mask\n",
    "    mask = cv2.imread(os.path.join(destination_mask,f\"{img_num}.png\"))\n",
    "    mask = cv2.resize(mask,(X_SHAPE,Y_SHAPE),interpolation=cv2.INTER_CUBIC)\n",
    "    #bird view\n",
    "    warped, (M,Minv) = CV_algs.preprocess_image(mask,visualise=False)\n",
    "    #thresholding\n",
    "    binary_mark =  (np.sum(warped,axis=2) == 441).astype(\"uint8\")\n",
    "    kernel = np.ones((2, 2), 'uint8')\n",
    "    binary_mark = cv2.dilate(binary_mark, kernel, iterations=1)\n",
    "    binary_roadbed = (np.sum(warped,axis=2) == 320).astype(\"uint8\")\n",
    "    binary_roadbed = np.logical_or(binary_mark,binary_roadbed).astype(\"uint8\")\n",
    "    kernel = np.ones((10, 10), 'uint8')\n",
    "    binary_roadbed = cv2.dilate(binary_roadbed, kernel, iterations=1)    \n",
    "    binary_roadbed = CV_algs.smalldeleteArreas(binary_roadbed,diagnostics= False)\n",
    "    \n",
    "    #start line search and classification  (uncomment visualisation part if needed)\n",
    "    #simple_test_output = CV_algs.simple_test(binary_mark, binary_roadbed,visualisation=True,diagnostics=True)\n",
    "    simple_test_output = CV_algs.simple_test(binary_mark, binary_roadbed)\n",
    "    #get out\n",
    "    success_mark, poly_param, (lc,rc) = simple_test_output[0]\n",
    "    success_roadbed,roadbed_fit = simple_test_output[1]\n",
    "    img_poly,out = simple_test_output[2]\n",
    "    #init final img\n",
    "    result = img_real\n",
    "    \n",
    "    #creating zero final mask \n",
    "    Mat = np.zeros(destination_SIZE)\n",
    "    # line index counter\n",
    "    counter = 1\n",
    "    # init empty line_info \n",
    "    lanes_class_information = \"\"\n",
    "    # fill the lanes_class_information-line_info Mat-mask and result with road_bed\n",
    "    if success_roadbed:\n",
    "        result = CV_algs.draw(img_real, warped, Minv, roadbed_fit,lineColor=(255,0,0))\n",
    "        \n",
    "        Mat = CV_algs.addLine(Mat,IMG_SHAPE,Minv,roadbed_fit[0],counter)\n",
    "        lanes_class_information += f\"{1} \"\n",
    "        counter +=1\n",
    "        Mat = CV_algs.addLine(Mat,IMG_SHAPE,Minv,roadbed_fit[1],counter)\n",
    "        lanes_class_information += f\"{1} \"\n",
    "        counter +=1\n",
    "        \n",
    "    # fill the lanes_class_information-line_info Mat-mask and result with road_marks\n",
    "    if success_mark:\n",
    "        result2 = CV_algs.draw(img_real, warped, Minv, poly_param, color =(220,0,110),lineColor=(0,0,0))\n",
    "        result = cv2.addWeighted(result, 0.5, result2, 0.5, 0)\n",
    "        result = cv2.putText(result, str(lc), (10,100), cv2.FONT_HERSHEY_PLAIN, 2, (0,255,0),thickness = 2)\n",
    "        result = cv2.putText(result, str(rc), (IMG_SHAPE[1] - 300,100), cv2.FONT_HERSHEY_PLAIN, 2, (0,255,0),thickness = 2)\n",
    "            \n",
    "        Mat = CV_algs.addLine(Mat,IMG_SHAPE,Minv,poly_param[0],counter)\n",
    "        lanes_class_information += f\"{reduce_classification(lc)} \" \n",
    "        counter +=1\n",
    "        Mat = CV_algs.addLine(Mat,IMG_SHAPE,Minv,poly_param[1],counter)\n",
    "        lanes_class_information += f\"{reduce_classification(rc)} \"\n",
    "        counter +=1\n",
    "        if reduce_classification(lc)>3 | reduce_classification(rc)>3:\n",
    "            raise Exception(\"your classification order is broken\")\n",
    "    #fill line_info up to 6 zero lines\n",
    "    while counter <= 6:\n",
    "        lanes_class_information += f\"{0} \"\n",
    "        counter +=1\n",
    "    #put text on result img\n",
    "    result = cv2.putText(result, f\"frame:{i}\", (10,50), cv2.FONT_HERSHEY_PLAIN, 2, (0,255,0),thickness = 2)\n",
    "    \n",
    "    #img_for_save =cv2.hconcat([img_real,mask,result])\n",
    "    img_for_save = cv2.cvtColor(result, cv2.COLOR_BGR2RGB)\n",
    "    # for training we save results if mark is ok. It works better for training\n",
    "    if success_mark:\n",
    "        cv2.imwrite(os.path.join(destination_to_save_rgb,f\"{name_counter}\".zfill(5)+\".png\"),cv2.resize(img_real,(destination_SIZE[1],destination_SIZE[0])))\n",
    "        cv2.imwrite(os.path.join(destination_to_save_mask,f\"{name_counter}\".zfill(5) + \".png\"),Mat)\n",
    "        cv2.imwrite(os.path.join(destination_to_save_result,f\"{name_counter}\".zfill(5) + \".png\"),img_for_save)\n",
    "        f = open(os.path.join(destination_to_save_info,f\"{name_counter}\".zfill(5) + \".txt\"), \"w\")\n",
    "        f.write(lanes_class_information)\n",
    "        f.close()\n",
    "        name_counter +=1\n",
    "        \n",
    "        \n",
    "    #plt.imshow(Mat)\n",
    "    #plt.show()\n",
    "    #plt.imshow(result)\n",
    "    #plt.show()"
   ]
  },
  {
   "cell_type": "code",
   "execution_count": 11,
   "metadata": {},
   "outputs": [
    {
     "data": {
      "text/plain": [
       "<matplotlib.image.AxesImage at 0x24d8c6bb9a0>"
      ]
     },
     "execution_count": 11,
     "metadata": {},
     "output_type": "execute_result"
    },
    {
     "data": {
      "image/png": "[encoded data removed]",
      "text/plain": [
       "<Figure size 640x480 with 1 Axes>"
      ]
     },
     "metadata": {},
     "output_type": "display_data"
    }
   ],
   "source": [
    "plt.imshow(Mat)"
   ]
  },
  {
   "cell_type": "code",
   "execution_count": 6,
   "metadata": {},
   "outputs": [],
   "source": [
    "import csv\n",
    "import pandas as pd\n",
    "rgb_paths = []\n",
    "mask_paths = []\n",
    "lane_infos = []\n",
    "list_dir = os.listdir(destination_to_save_mask)\n",
    "for name in list_dir:\n",
    "    i = os.path.splitext(name)[0]\n",
    "    rgb_paths.append(f\"rgb/{i}.png\")\n",
    "    mask_paths.append(f\"mask/{i}.png\")\n",
    "    \n",
    "    with open(os.path.join(destination_to_save_info,f\"{i}.txt\"),\"r\") as f:\n",
    "        line = f.readline()\n",
    "        lane_infos.append(line[:-1])\n",
    "cv_name = os.path.join(destination_to_save,\"DataSet.csv\")\n",
    "pd.DataFrame({\"path_to_input\":rgb_paths, \"path_to_mask\" : mask_paths, \"lane_classes\": lane_infos}).to_csv(cv_name,index=False)"
   ]
  }
 ],
 "metadata": {
  "kernelspec": {
   "display_name": "env",
   "language": "python",
   "name": "python3"
  },
  "language_info": {
   "codemirror_mode": {
    "name": "ipython",
    "version": 3
   },
   "file_extension": ".py",
   "mimetype": "text/x-python",
   "name": "python",
   "nbconvert_exporter": "python",
   "pygments_lexer": "ipython3",
   "version": "3.10.6 (main, Nov  2 2022, 18:53:38) [GCC 11.3.0]"
  },
  "orig_nbformat": 4,
  "vscode": {
   "interpreter": {
    "hash": "52d90ecd508e438ef6047f3c606381bb3ece294f43b2dd78a3eb8c84e1d725cc"
   }
  }
 },
 "nbformat": 4,
 "nbformat_minor": 2
}
