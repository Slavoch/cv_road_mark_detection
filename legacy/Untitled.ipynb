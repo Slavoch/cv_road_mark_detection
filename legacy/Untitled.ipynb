{
 "cells": [
  {
   "cell_type": "code",
   "execution_count": 1,
   "id": "c6af09b8",
   "metadata": {},
   "outputs": [
    {
     "ename": "error",
     "evalue": "OpenCV(4.6.0) D:\\a\\opencv-python\\opencv-python\\opencv\\modules\\imgproc\\src\\imgwarp.cpp:3144: error: (-215:Assertion failed) _src.total() > 0 in function 'cv::warpPerspective'\n",
     "output_type": "error",
     "traceback": [
      "\u001b[1;31m---------------------------------------------------------------------------\u001b[0m",
      "\u001b[1;31merror\u001b[0m                                     Traceback (most recent call last)",
      "Input \u001b[1;32mIn [1]\u001b[0m, in \u001b[0;36m<cell line: 15>\u001b[1;34m()\u001b[0m\n\u001b[0;32m     13\u001b[0m img \u001b[38;5;241m=\u001b[39m cv2\u001b[38;5;241m.\u001b[39mimread(\u001b[38;5;124m'\u001b[39m\u001b[38;5;124m147.png\u001b[39m\u001b[38;5;124m'\u001b[39m) \u001b[38;5;66;03m# Read the test img\u001b[39;00m\n\u001b[0;32m     14\u001b[0m \u001b[38;5;66;03m#img = img[450:(450+IMAGE_H), 0:IMAGE_W] # Apply np slicing for ROI crop\u001b[39;00m\n\u001b[1;32m---> 15\u001b[0m warped_img \u001b[38;5;241m=\u001b[39m \u001b[43mcv2\u001b[49m\u001b[38;5;241;43m.\u001b[39;49m\u001b[43mwarpPerspective\u001b[49m\u001b[43m(\u001b[49m\u001b[43mimg\u001b[49m\u001b[43m,\u001b[49m\u001b[43m \u001b[49m\u001b[43mM\u001b[49m\u001b[43m,\u001b[49m\u001b[43m \u001b[49m\u001b[43m(\u001b[49m\u001b[43mIMAGE_W\u001b[49m\u001b[43m,\u001b[49m\u001b[43m \u001b[49m\u001b[43mIMAGE_H\u001b[49m\u001b[43m)\u001b[49m\u001b[43m)\u001b[49m \u001b[38;5;66;03m# Image warping\u001b[39;00m\n\u001b[0;32m     16\u001b[0m plt\u001b[38;5;241m.\u001b[39mimshow(cv2\u001b[38;5;241m.\u001b[39mcvtColor(img, cv2\u001b[38;5;241m.\u001b[39mCOLOR_BGR2RGB)) \u001b[38;5;66;03m# Show results\u001b[39;00m\n\u001b[0;32m     17\u001b[0m plt\u001b[38;5;241m.\u001b[39mshow()\n",
      "\u001b[1;31merror\u001b[0m: OpenCV(4.6.0) D:\\a\\opencv-python\\opencv-python\\opencv\\modules\\imgproc\\src\\imgwarp.cpp:3144: error: (-215:Assertion failed) _src.total() > 0 in function 'cv::warpPerspective'\n"
     ]
    }
   ],
   "source": [
    "import cv2\n",
    "import numpy as np\n",
    "import matplotlib.pyplot as plt\n",
    "\n",
    "IMAGE_H = 600\n",
    "IMAGE_W = 800\n",
    "\n",
    "src = np.float32([[0, IMAGE_H], [1207, IMAGE_H], [0, 0], [IMAGE_W, 0]])\n",
    "dst = np.float32([[569, IMAGE_H], [711, IMAGE_H], [0, 0], [IMAGE_W, 0]])\n",
    "M = cv2.getPerspectiveTransform(src, dst) # The transformation matrix\n",
    "Minv = cv2.getPerspectiveTransform(dst, src) # Inverse transformation\n",
    "\n",
    "img = cv2.imread('147.png') # Read the test img\n",
    "#img = img[450:(450+IMAGE_H), 0:IMAGE_W] # Apply np slicing for ROI crop\n",
    "warped_img = cv2.warpPerspective(img, M, (IMAGE_W, IMAGE_H)) # Image warping\n",
    "plt.imshow(cv2.cvtColor(img, cv2.COLOR_BGR2RGB)) # Show results\n",
    "plt.show()"
   ]
  },
  {
   "cell_type": "code",
   "execution_count": null,
   "id": "c0d6812c",
   "metadata": {},
   "outputs": [],
   "source": [
    "\n",
    "\n",
    "IMAGE_H = 223\n",
    "IMAGE_W = 1280\n",
    "\n",
    "src = np.float32([[0, IMAGE_H], [1207, IMAGE_H], [0, 0], [IMAGE_W, 0]])\n",
    "dst = np.float32([[569, IMAGE_H], [711, IMAGE_H], [0, 0], [IMAGE_W, 0]])\n",
    "M = cv2.getPerspectiveTransform(src, dst) # The transformation matrix\n",
    "Minv = cv2.getPerspectiveTransform(dst, src) # Inverse transformation\n",
    "\n",
    "img = cv2.imread('./test_img.jpg') # Read the test img\n",
    "img = img[450:(450+IMAGE_H), 0:IMAGE_W] # Apply np slicing for ROI crop\n",
    "warped_img = cv2.warpPerspective(img, M, (IMAGE_W, IMAGE_H)) # Image warping\n",
    "plt.imshow(cv2.cvtColor(warped_img, cv2.COLOR_BGR2RGB)) # Show results\n",
    "plt.show()"
   ]
  },
  {
   "cell_type": "code",
   "execution_count": null,
   "id": "9eafc020",
   "metadata": {},
   "outputs": [],
   "source": []
  },
  {
   "cell_type": "code",
   "execution_count": null,
   "id": "ce06fd93",
   "metadata": {},
   "outputs": [],
   "source": [
    "img = cv2.imread('1.png') # Read the test img\n",
    "\n",
    "\n",
    "IMAGE_H = 600\n",
    "IMAGE_W = 800\n",
    "img = img[int(IMAGE_H * 2/4 + 50):(IMAGE_H), 0:IMAGE_W] # Apply np slicing for ROI crop\n",
    "IMAGE_H= IMAGE_H - int(IMAGE_H *2/4 + 50) \n",
    "\n",
    "#src = np.float32([ [351, 320], [417, 320], [536, 485],[0,485]]) \n",
    "src = np.float32([[0,0],[IMAGE_W,0],[400+80,IMAGE_H],[400 - 80, IMAGE_H]]) \n",
    "dst = np.float32([[0, 0],[IMAGE_W, 0], [IMAGE_W, IMAGE_H],[0,IMAGE_H]])\n",
    "\n",
    "#for point in src:\n",
    "#    point = np.int32(point)\n",
    "#    img = cv2.circle(img,point,20,(0,255,0),thickness=-1)\n",
    "    \n",
    "#for point in dst:\n",
    "#    point = np.int32(point)\n",
    "#    img = cv2.circle(img,point,10,(0,0,255),thickness=-1)\n",
    "    \n",
    "    \n",
    "plt.imshow(cv2.cvtColor(img, cv2.COLOR_BGR2RGB)) # Show results\n",
    "plt.show()\n",
    "\n",
    "M = cv2.getPerspectiveTransform(src, dst) # The transformation matrix\n",
    "Minv = cv2.getPerspectiveTransform(dst, src) # Inverse transformation\n",
    "warped_img = cv2.warpPerspective(img, Minv, (IMAGE_W, IMAGE_H)) # Image warping\n",
    "plt.imshow(cv2.cvtColor(warped_img, cv2.COLOR_BGR2RGB)) # Show results\n",
    "plt.show()"
   ]
  },
  {
   "cell_type": "code",
   "execution_count": null,
   "id": "c842b217",
   "metadata": {},
   "outputs": [],
   "source": [
    "IMAGE_W"
   ]
  },
  {
   "cell_type": "code",
   "execution_count": null,
   "id": "68d4703c",
   "metadata": {},
   "outputs": [],
   "source": [
    "M = cv2.getPerspectiveTransform(src, dst) # The transformation matrix\n",
    "Minv = cv2.getPerspectiveTransform(dst, src) # Inverse transformation\n",
    "warped_img = cv2.warpPerspective(img, Minv, (IMAGE_W, IMAGE_H)) # Image warping\n",
    "plt.imshow(cv2.cvtColor(warped_img, cv2.COLOR_BGR2RGB)) # Show results\n",
    "plt.show()\n"
   ]
  },
  {
   "cell_type": "code",
   "execution_count": null,
   "id": "73146a32",
   "metadata": {},
   "outputs": [],
   "source": []
  },
  {
   "cell_type": "code",
   "execution_count": null,
   "id": "fb82d1de",
   "metadata": {},
   "outputs": [],
   "source": []
  },
  {
   "cell_type": "code",
   "execution_count": null,
   "id": "07daf77c",
   "metadata": {},
   "outputs": [],
   "source": []
  },
  {
   "cell_type": "code",
   "execution_count": null,
   "id": "338a35cd",
   "metadata": {},
   "outputs": [],
   "source": [
    "from PIL import Image\n",
    "import os\n",
    "import numpy as np\n",
    "\n",
    "\n",
    "def convert_images(root, destination, type):\n",
    "    images_list = os.listdir(os.path.join(root, type))\n",
    "    classes = {\n",
    "        0: 0,\n",
    "        210: 0,\n",
    "        496: 0,\n",
    "        162: 0,\n",
    "        300: 0,\n",
    "        459: 0,\n",
    "        441: 1,\n",
    "        320: 0,\n",
    "        511: 0,\n",
    "        284: 0,\n",
    "        255: 0,\n",
    "        360: 0,\n",
    "        440: 0\n",
    "    }\n",
    "    for image in images_list:\n",
    "        image_np = np.array(Image.open(os.path.join(root, type, image)))\n",
    "        image_np = image_np.sum(axis=2)\n",
    "        labels_image = np.zeros((image_np.shape[0], image_np.shape[1]))\n",
    "        for key, value in classes.items():\n",
    "            labels_image[np.where(image_np == key)] = value\n",
    "\n",
    "        np.savez(os.path.join(destination, image), labels_image)\n",
    "\n",
    "\n",
    "segmented_dir = r\"C:\\Users\\Slava\\Documents\\test\"\n",
    "destination = r\"C:\\Users\\Slava\\Documents\\test\\img2\"\n",
    "convert_images(segmented_dir, destination, \"img\")\n",
    "\n"
   ]
  },
  {
   "cell_type": "code",
   "execution_count": null,
   "id": "7f643677",
   "metadata": {},
   "outputs": [],
   "source": [
    "os.path.join(segmented_dir, \"img\")\n",
    "b = np.load(destination + \"\\\\1.png.npz\")"
   ]
  },
  {
   "cell_type": "code",
   "execution_count": null,
   "id": "9c6e985d",
   "metadata": {},
   "outputs": [],
   "source": [
    "import cv2\n",
    "import matplotlib.pyplot as plt\n",
    "b[\"arr_0\"]\n",
    "\n",
    "plt.imshow(b[\"arr_0\"]) # Show results\n",
    "plt.show()"
   ]
  },
  {
   "cell_type": "code",
   "execution_count": null,
   "id": "f34b0013",
   "metadata": {},
   "outputs": [],
   "source": [
    "b[\"arr_0\"]"
   ]
  },
  {
   "cell_type": "code",
   "execution_count": null,
   "id": "fb57f487",
   "metadata": {},
   "outputs": [],
   "source": [
    "(T, thresh) = cv2.threshold(b[\"arr_0\"], 0.5, 255, cv2.THRESH_BINARY)\n",
    "plt.imshow(thresh,cmap='gray')"
   ]
  },
  {
   "cell_type": "code",
   "execution_count": null,
   "id": "ada4662f",
   "metadata": {},
   "outputs": [],
   "source": []
  },
  {
   "cell_type": "code",
   "execution_count": null,
   "id": "bf074a78",
   "metadata": {},
   "outputs": [],
   "source": []
  }
 ],
 "metadata": {
  "kernelspec": {
   "display_name": "Python 3 (ipykernel)",
   "language": "python",
   "name": "python3"
  },
  "language_info": {
   "codemirror_mode": {
    "name": "ipython",
    "version": 3
   },
   "file_extension": ".py",
   "mimetype": "text/x-python",
   "name": "python",
   "nbconvert_exporter": "python",
   "pygments_lexer": "ipython3",
   "version": "3.10.4"
  }
 },
 "nbformat": 4,
 "nbformat_minor": 5
}
